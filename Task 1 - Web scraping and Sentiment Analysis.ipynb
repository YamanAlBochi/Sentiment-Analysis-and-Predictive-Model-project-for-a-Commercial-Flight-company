{
 "cells": [
  {
   "cell_type": "markdown",
   "id": "3a639140",
   "metadata": {},
   "source": [
    "# Web scraping and analysis\n",
    "This Jupyter notebook includes some code to get you started with web scraping. We will use a package called BeautifulSoup to collect the data from the web. Once you've collected your data and saved it into a local .csv file you should start with your analysis.\n",
    "\n",
    "Scraping data from Skytrax\n",
    "If you visit [https://www.airlinequality.com] you can see that there is a lot of data there. For this task, we are only interested in reviews related to British Airways and the Airline itself.\n",
    "\n",
    "If you navigate to this link: [https://www.airlinequality.com/airline-reviews/british-airways] you will see this data. Now, we can use Python and BeautifulSoup to collect all the links to the reviews and then to collect the text data on each of the individual review links"
   ]
  },
  {
   "cell_type": "code",
   "execution_count": 1,
   "id": "4bece0cc",
   "metadata": {},
   "outputs": [],
   "source": [
    "# Necessary Libraries \n",
    "import requests\n",
    "from bs4 import BeautifulSoup\n",
    "import pandas as pd\n",
    "import re\n",
    "import seaborn as sns\n",
    "import matplotlib.pyplot as plt\n",
    "%matplotlib inline"
   ]
  },
  {
   "cell_type": "code",
   "execution_count": 2,
   "id": "de07b41a",
   "metadata": {},
   "outputs": [
    {
     "name": "stdout",
     "output_type": "stream",
     "text": [
      "Scraping page 1\n",
      "   ---> 100 total reviews\n",
      "Scraping page 2\n",
      "   ---> 200 total reviews\n",
      "Scraping page 3\n",
      "   ---> 300 total reviews\n",
      "Scraping page 4\n",
      "   ---> 400 total reviews\n",
      "Scraping page 5\n",
      "   ---> 500 total reviews\n",
      "Scraping page 6\n",
      "   ---> 600 total reviews\n",
      "Scraping page 7\n",
      "   ---> 700 total reviews\n",
      "Scraping page 8\n",
      "   ---> 800 total reviews\n",
      "Scraping page 9\n",
      "   ---> 900 total reviews\n",
      "Scraping page 10\n",
      "   ---> 1000 total reviews\n"
     ]
    }
   ],
   "source": [
    "base_url = \"https://www.airlinequality.com/airline-reviews/british-airways\"\n",
    "pages = 10\n",
    "page_size = 100\n",
    "\n",
    "reviews = []\n",
    "\n",
    "for i in range(1, pages + 1):\n",
    "\n",
    "    print(f\"Scraping page {i}\")\n",
    "\n",
    "    # Create URL to collect links from paginated data\n",
    "    url = f\"{base_url}/page/{i}/?sortby=post_date%3ADesc&pagesize={page_size}\"\n",
    "\n",
    "    # Collect HTML data from this page\n",
    "    response = requests.get(url)\n",
    "\n",
    "    # Parse content\n",
    "    content = response.content\n",
    "    parsed_content = BeautifulSoup(content, 'html.parser')\n",
    "    for para in parsed_content.find_all(\"div\", {\"class\": \"text_content\"}):\n",
    "        reviews.append(para.get_text())\n",
    "    \n",
    "    print(f\"   ---> {len(reviews)} total reviews\")"
   ]
  },
  {
   "cell_type": "code",
   "execution_count": 3,
   "id": "c9aaf989",
   "metadata": {},
   "outputs": [
    {
     "data": {
      "text/html": [
       "<div>\n",
       "<style scoped>\n",
       "    .dataframe tbody tr th:only-of-type {\n",
       "        vertical-align: middle;\n",
       "    }\n",
       "\n",
       "    .dataframe tbody tr th {\n",
       "        vertical-align: top;\n",
       "    }\n",
       "\n",
       "    .dataframe thead th {\n",
       "        text-align: right;\n",
       "    }\n",
       "</style>\n",
       "<table border=\"1\" class=\"dataframe\">\n",
       "  <thead>\n",
       "    <tr style=\"text-align: right;\">\n",
       "      <th></th>\n",
       "      <th>reviews</th>\n",
       "    </tr>\n",
       "  </thead>\n",
       "  <tbody>\n",
       "    <tr>\n",
       "      <th>0</th>\n",
       "      <td>✅ Trip Verified | Boarding at Mumbai was chaot...</td>\n",
       "    </tr>\n",
       "    <tr>\n",
       "      <th>1</th>\n",
       "      <td>Not Verified | Mexico City Airport is a zoo, b...</td>\n",
       "    </tr>\n",
       "    <tr>\n",
       "      <th>2</th>\n",
       "      <td>✅ Trip Verified |  Very poor service, very fru...</td>\n",
       "    </tr>\n",
       "    <tr>\n",
       "      <th>3</th>\n",
       "      <td>Not Verified |  Generally poor. Sent to gate o...</td>\n",
       "    </tr>\n",
       "    <tr>\n",
       "      <th>4</th>\n",
       "      <td>Not Verified |  BA changed our prepaid seats a...</td>\n",
       "    </tr>\n",
       "  </tbody>\n",
       "</table>\n",
       "</div>"
      ],
      "text/plain": [
       "                                             reviews\n",
       "0  ✅ Trip Verified | Boarding at Mumbai was chaot...\n",
       "1  Not Verified | Mexico City Airport is a zoo, b...\n",
       "2  ✅ Trip Verified |  Very poor service, very fru...\n",
       "3  Not Verified |  Generally poor. Sent to gate o...\n",
       "4  Not Verified |  BA changed our prepaid seats a..."
      ]
     },
     "execution_count": 3,
     "metadata": {},
     "output_type": "execute_result"
    }
   ],
   "source": [
    "# Convert raw data into pandas dataframe\n",
    "data = pd.DataFrame()\n",
    "data[\"reviews\"] = reviews\n",
    "data.head()"
   ]
  },
  {
   "cell_type": "code",
   "execution_count": 4,
   "id": "bd306606",
   "metadata": {},
   "outputs": [],
   "source": [
    "# Convert dataset into csv\n",
    "data.to_csv(\"BA_reviews.csv\")"
   ]
  },
  {
   "cell_type": "raw",
   "id": "71c390e2",
   "metadata": {},
   "source": [
    "# The next thing that we should do is clean this data to remove any unnecessary text from each of the rows. For example, \"✅ Trip Verified\" can be removed from each row if it exists, as it's not relevant to what we want to investigate."
   ]
  },
  {
   "cell_type": "code",
   "execution_count": 5,
   "id": "c40844c2",
   "metadata": {},
   "outputs": [
    {
     "data": {
      "text/html": [
       "<div>\n",
       "<style scoped>\n",
       "    .dataframe tbody tr th:only-of-type {\n",
       "        vertical-align: middle;\n",
       "    }\n",
       "\n",
       "    .dataframe tbody tr th {\n",
       "        vertical-align: top;\n",
       "    }\n",
       "\n",
       "    .dataframe thead th {\n",
       "        text-align: right;\n",
       "    }\n",
       "</style>\n",
       "<table border=\"1\" class=\"dataframe\">\n",
       "  <thead>\n",
       "    <tr style=\"text-align: right;\">\n",
       "      <th></th>\n",
       "      <th>Unnamed: 0</th>\n",
       "      <th>reviews</th>\n",
       "    </tr>\n",
       "  </thead>\n",
       "  <tbody>\n",
       "    <tr>\n",
       "      <th>0</th>\n",
       "      <td>0</td>\n",
       "      <td>✅ Trip Verified | Boarding at Mumbai was chaot...</td>\n",
       "    </tr>\n",
       "    <tr>\n",
       "      <th>1</th>\n",
       "      <td>1</td>\n",
       "      <td>Not Verified | Mexico City Airport is a zoo, b...</td>\n",
       "    </tr>\n",
       "    <tr>\n",
       "      <th>2</th>\n",
       "      <td>2</td>\n",
       "      <td>✅ Trip Verified |  Very poor service, very fru...</td>\n",
       "    </tr>\n",
       "    <tr>\n",
       "      <th>3</th>\n",
       "      <td>3</td>\n",
       "      <td>Not Verified |  Generally poor. Sent to gate o...</td>\n",
       "    </tr>\n",
       "    <tr>\n",
       "      <th>4</th>\n",
       "      <td>4</td>\n",
       "      <td>Not Verified |  BA changed our prepaid seats a...</td>\n",
       "    </tr>\n",
       "  </tbody>\n",
       "</table>\n",
       "</div>"
      ],
      "text/plain": [
       "   Unnamed: 0                                            reviews\n",
       "0           0  ✅ Trip Verified | Boarding at Mumbai was chaot...\n",
       "1           1  Not Verified | Mexico City Airport is a zoo, b...\n",
       "2           2  ✅ Trip Verified |  Very poor service, very fru...\n",
       "3           3  Not Verified |  Generally poor. Sent to gate o...\n",
       "4           4  Not Verified |  BA changed our prepaid seats a..."
      ]
     },
     "execution_count": 5,
     "metadata": {},
     "output_type": "execute_result"
    }
   ],
   "source": [
    "# Read the dataset\n",
    "data = pd.read_csv(\"BA_reviews.csv\")\n",
    "data.head()"
   ]
  },
  {
   "cell_type": "code",
   "execution_count": 6,
   "id": "c44ef8f4",
   "metadata": {},
   "outputs": [
    {
     "data": {
      "text/plain": [
       "(1000, 2)"
      ]
     },
     "execution_count": 6,
     "metadata": {},
     "output_type": "execute_result"
    }
   ],
   "source": [
    "# Check shape of dataframe\n",
    "data.shape"
   ]
  },
  {
   "cell_type": "code",
   "execution_count": 7,
   "id": "9d705c15",
   "metadata": {},
   "outputs": [
    {
     "name": "stdout",
     "output_type": "stream",
     "text": [
      "<class 'pandas.core.frame.DataFrame'>\n",
      "RangeIndex: 1000 entries, 0 to 999\n",
      "Data columns (total 2 columns):\n",
      " #   Column      Non-Null Count  Dtype \n",
      "---  ------      --------------  ----- \n",
      " 0   Unnamed: 0  1000 non-null   int64 \n",
      " 1   reviews     1000 non-null   object\n",
      "dtypes: int64(1), object(1)\n",
      "memory usage: 15.8+ KB\n"
     ]
    }
   ],
   "source": [
    "# Check information about dataframe\n",
    "data.info()"
   ]
  },
  {
   "cell_type": "code",
   "execution_count": 8,
   "id": "2e591cab",
   "metadata": {},
   "outputs": [],
   "source": [
    "# Drop Unnecessary Column\n",
    "data.drop(columns='Unnamed: 0', axis=1, inplace=True)"
   ]
  },
  {
   "cell_type": "code",
   "execution_count": 9,
   "id": "7311113c",
   "metadata": {},
   "outputs": [
    {
     "data": {
      "text/plain": [
       "'✅ Trip Verified | Boarding at Mumbai was chaotic and badly organised. Once on board the crew announcements were professional, relaxed and informative in typical BA style. The seat was quite comfortable. It was a refurbished aircraft and the padding and materials are quite good. I was lucky that the middle seat was empty so I didn’t suffer from the new narrow seat which I think would have made it a lot less comfortable. The IFE is excellent, responsive and good quality. There is an enormous selection of TV and movies and a good number of games. WIFI is also very good not quite Netflix quality but still reasonable and I don’t think £17.99 for full flight is bad value. You can pay less if you just want short term simple messaging. Cabin crew were very good. Friendly and efficient. Catering was reasonable although on a near 10hr flight, the small (but tasty) pastry for the second meal service wasn’t really enough. Landing and processing at Heathrow was astonishingly quick - it felt like it was 3am, even though it was 6:30pm! No queues or waiting at all. Even the baggage was super quick at coming through. Overall a very solid experience in economy. Significantly better than it used to be.'"
      ]
     },
     "execution_count": 9,
     "metadata": {},
     "output_type": "execute_result"
    }
   ],
   "source": [
    "# Check the first review\n",
    "data['reviews'].loc[0]"
   ]
  },
  {
   "cell_type": "code",
   "execution_count": 10,
   "id": "d48537af",
   "metadata": {},
   "outputs": [],
   "source": [
    "# Split the trip verified string\n",
    "data.reviews = data.reviews.str.split('|', expand=True)[1]"
   ]
  },
  {
   "cell_type": "code",
   "execution_count": 11,
   "id": "079e0494",
   "metadata": {},
   "outputs": [
    {
     "data": {
      "text/html": [
       "<div>\n",
       "<style scoped>\n",
       "    .dataframe tbody tr th:only-of-type {\n",
       "        vertical-align: middle;\n",
       "    }\n",
       "\n",
       "    .dataframe tbody tr th {\n",
       "        vertical-align: top;\n",
       "    }\n",
       "\n",
       "    .dataframe thead th {\n",
       "        text-align: right;\n",
       "    }\n",
       "</style>\n",
       "<table border=\"1\" class=\"dataframe\">\n",
       "  <thead>\n",
       "    <tr style=\"text-align: right;\">\n",
       "      <th></th>\n",
       "      <th>reviews</th>\n",
       "    </tr>\n",
       "  </thead>\n",
       "  <tbody>\n",
       "    <tr>\n",
       "      <th>0</th>\n",
       "      <td>Boarding at Mumbai was chaotic and badly orga...</td>\n",
       "    </tr>\n",
       "    <tr>\n",
       "      <th>1</th>\n",
       "      <td>Mexico City Airport is a zoo, but taking the ...</td>\n",
       "    </tr>\n",
       "    <tr>\n",
       "      <th>2</th>\n",
       "      <td>Very poor service, very frustrating. Firstly...</td>\n",
       "    </tr>\n",
       "    <tr>\n",
       "      <th>3</th>\n",
       "      <td>Generally poor. Sent to gate on time, sat ma...</td>\n",
       "    </tr>\n",
       "    <tr>\n",
       "      <th>4</th>\n",
       "      <td>BA changed our prepaid seats at the last min...</td>\n",
       "    </tr>\n",
       "    <tr>\n",
       "      <th>...</th>\n",
       "      <td>...</td>\n",
       "    </tr>\n",
       "    <tr>\n",
       "      <th>995</th>\n",
       "      <td>Our original flight was cancelled as my wife...</td>\n",
       "    </tr>\n",
       "    <tr>\n",
       "      <th>996</th>\n",
       "      <td>Hong Kong to London. This was my first Busin...</td>\n",
       "    </tr>\n",
       "    <tr>\n",
       "      <th>997</th>\n",
       "      <td>Washington to Bucharest return via London. I...</td>\n",
       "    </tr>\n",
       "    <tr>\n",
       "      <th>998</th>\n",
       "      <td>London to Warsaw. BA European service is bec...</td>\n",
       "    </tr>\n",
       "    <tr>\n",
       "      <th>999</th>\n",
       "      <td>London to Istanbul. Due to poor weather cond...</td>\n",
       "    </tr>\n",
       "  </tbody>\n",
       "</table>\n",
       "<p>1000 rows × 1 columns</p>\n",
       "</div>"
      ],
      "text/plain": [
       "                                               reviews\n",
       "0     Boarding at Mumbai was chaotic and badly orga...\n",
       "1     Mexico City Airport is a zoo, but taking the ...\n",
       "2      Very poor service, very frustrating. Firstly...\n",
       "3      Generally poor. Sent to gate on time, sat ma...\n",
       "4      BA changed our prepaid seats at the last min...\n",
       "..                                                 ...\n",
       "995    Our original flight was cancelled as my wife...\n",
       "996    Hong Kong to London. This was my first Busin...\n",
       "997    Washington to Bucharest return via London. I...\n",
       "998    London to Warsaw. BA European service is bec...\n",
       "999    London to Istanbul. Due to poor weather cond...\n",
       "\n",
       "[1000 rows x 1 columns]"
      ]
     },
     "execution_count": 11,
     "metadata": {},
     "output_type": "execute_result"
    }
   ],
   "source": [
    "data"
   ]
  },
  {
   "cell_type": "code",
   "execution_count": 12,
   "id": "f501b3e7",
   "metadata": {},
   "outputs": [
    {
     "data": {
      "text/html": [
       "<div>\n",
       "<style scoped>\n",
       "    .dataframe tbody tr th:only-of-type {\n",
       "        vertical-align: middle;\n",
       "    }\n",
       "\n",
       "    .dataframe tbody tr th {\n",
       "        vertical-align: top;\n",
       "    }\n",
       "\n",
       "    .dataframe thead th {\n",
       "        text-align: right;\n",
       "    }\n",
       "</style>\n",
       "<table border=\"1\" class=\"dataframe\">\n",
       "  <thead>\n",
       "    <tr style=\"text-align: right;\">\n",
       "      <th></th>\n",
       "      <th>reviews</th>\n",
       "      <th>clean_reviews</th>\n",
       "    </tr>\n",
       "  </thead>\n",
       "  <tbody>\n",
       "    <tr>\n",
       "      <th>0</th>\n",
       "      <td>Boarding at Mumbai was chaotic and badly orga...</td>\n",
       "      <td>Boarding at Mumbai was chaotic and badly orga...</td>\n",
       "    </tr>\n",
       "    <tr>\n",
       "      <th>1</th>\n",
       "      <td>Mexico City Airport is a zoo, but taking the ...</td>\n",
       "      <td>Mexico City Airport is a zoo but taking the l...</td>\n",
       "    </tr>\n",
       "    <tr>\n",
       "      <th>2</th>\n",
       "      <td>Very poor service, very frustrating. Firstly...</td>\n",
       "      <td>Very poor service very frustrating Firstly my...</td>\n",
       "    </tr>\n",
       "    <tr>\n",
       "      <th>3</th>\n",
       "      <td>Generally poor. Sent to gate on time, sat ma...</td>\n",
       "      <td>Generally poor Sent to gate on time sat maybe...</td>\n",
       "    </tr>\n",
       "    <tr>\n",
       "      <th>4</th>\n",
       "      <td>BA changed our prepaid seats at the last min...</td>\n",
       "      <td>BA changed our prepaid seats at the last minu...</td>\n",
       "    </tr>\n",
       "  </tbody>\n",
       "</table>\n",
       "</div>"
      ],
      "text/plain": [
       "                                             reviews  \\\n",
       "0   Boarding at Mumbai was chaotic and badly orga...   \n",
       "1   Mexico City Airport is a zoo, but taking the ...   \n",
       "2    Very poor service, very frustrating. Firstly...   \n",
       "3    Generally poor. Sent to gate on time, sat ma...   \n",
       "4    BA changed our prepaid seats at the last min...   \n",
       "\n",
       "                                       clean_reviews  \n",
       "0   Boarding at Mumbai was chaotic and badly orga...  \n",
       "1   Mexico City Airport is a zoo but taking the l...  \n",
       "2   Very poor service very frustrating Firstly my...  \n",
       "3   Generally poor Sent to gate on time sat maybe...  \n",
       "4   BA changed our prepaid seats at the last minu...  "
      ]
     },
     "execution_count": 12,
     "metadata": {},
     "output_type": "execute_result"
    }
   ],
   "source": [
    "# Function to clean text\n",
    "def clean(text):\n",
    "    # Remove all special characters & numbers except alphabets\n",
    "    text = re.sub('[^A-Za-z]+', ' ', str(text))\n",
    "    return text\n",
    "\n",
    "data['clean_reviews'] = data['reviews'].apply(clean)\n",
    "data.head()"
   ]
  },
  {
   "cell_type": "code",
   "execution_count": 15,
   "id": "09c2ad74",
   "metadata": {},
   "outputs": [
    {
     "name": "stdout",
     "output_type": "stream",
     "text": [
      "Collecting wordcloud\n",
      "  Downloading wordcloud-1.8.2.2-cp39-cp39-win_amd64.whl (153 kB)\n",
      "Requirement already satisfied: matplotlib in c:\\users\\alboc\\anaconda3\\lib\\site-packages (from wordcloud) (3.5.1)\n",
      "Requirement already satisfied: numpy>=1.6.1 in c:\\users\\alboc\\anaconda3\\lib\\site-packages (from wordcloud) (1.21.5)\n",
      "Requirement already satisfied: pillow in c:\\users\\alboc\\anaconda3\\lib\\site-packages (from wordcloud) (9.0.1)\n",
      "Requirement already satisfied: cycler>=0.10 in c:\\users\\alboc\\anaconda3\\lib\\site-packages (from matplotlib->wordcloud) (0.11.0)\n",
      "Requirement already satisfied: fonttools>=4.22.0 in c:\\users\\alboc\\anaconda3\\lib\\site-packages (from matplotlib->wordcloud) (4.25.0)\n",
      "Requirement already satisfied: python-dateutil>=2.7 in c:\\users\\alboc\\anaconda3\\lib\\site-packages (from matplotlib->wordcloud) (2.8.2)\n",
      "Requirement already satisfied: kiwisolver>=1.0.1 in c:\\users\\alboc\\anaconda3\\lib\\site-packages (from matplotlib->wordcloud) (1.3.2)\n",
      "Requirement already satisfied: packaging>=20.0 in c:\\users\\alboc\\anaconda3\\lib\\site-packages (from matplotlib->wordcloud) (21.3)\n",
      "Requirement already satisfied: pyparsing>=2.2.1 in c:\\users\\alboc\\anaconda3\\lib\\site-packages (from matplotlib->wordcloud) (3.0.4)\n",
      "Requirement already satisfied: six>=1.5 in c:\\users\\alboc\\anaconda3\\lib\\site-packages (from python-dateutil>=2.7->matplotlib->wordcloud) (1.16.0)\n",
      "Installing collected packages: wordcloud\n",
      "Successfully installed wordcloud-1.8.2.2\n",
      "Note: you may need to restart the kernel to use updated packages.\n"
     ]
    }
   ],
   "source": [
    "pip install wordcloud"
   ]
  },
  {
   "cell_type": "code",
   "execution_count": 16,
   "id": "343fd8b1",
   "metadata": {},
   "outputs": [
    {
     "name": "stderr",
     "output_type": "stream",
     "text": [
      "[nltk_data] Downloading package punkt to\n",
      "[nltk_data]     C:\\Users\\alboc\\AppData\\Roaming\\nltk_data...\n",
      "[nltk_data]   Package punkt is already up-to-date!\n",
      "[nltk_data] Downloading package stopwords to\n",
      "[nltk_data]     C:\\Users\\alboc\\AppData\\Roaming\\nltk_data...\n",
      "[nltk_data]   Package stopwords is already up-to-date!\n",
      "[nltk_data] Downloading package wordnet to\n",
      "[nltk_data]     C:\\Users\\alboc\\AppData\\Roaming\\nltk_data...\n",
      "[nltk_data]   Package wordnet is already up-to-date!\n",
      "[nltk_data] Downloading package omw-1.4 to\n",
      "[nltk_data]     C:\\Users\\alboc\\AppData\\Roaming\\nltk_data...\n",
      "[nltk_data]   Package omw-1.4 is already up-to-date!\n",
      "[nltk_data] Downloading package averaged_perceptron_tagger to\n",
      "[nltk_data]     C:\\Users\\alboc\\AppData\\Roaming\\nltk_data...\n",
      "[nltk_data]   Package averaged_perceptron_tagger is already up-to-\n",
      "[nltk_data]       date!\n"
     ]
    }
   ],
   "source": [
    "import nltk\n",
    "\n",
    "nltk.download('punkt')\n",
    "nltk.download('stopwords')\n",
    "nltk.download('wordnet')\n",
    "nltk.download('omw-1.4')\n",
    "nltk.download('averaged_perceptron_tagger')\n",
    "\n",
    "from nltk.tokenize import word_tokenize\n",
    "from nltk import pos_tag\n",
    "from nltk.corpus import stopwords\n",
    "from nltk.corpus import wordnet\n",
    "from nltk.stem import WordNetLemmatizer\n",
    "from wordcloud import WordCloud, STOPWORDS"
   ]
  },
  {
   "cell_type": "code",
   "execution_count": 17,
   "id": "3ac09786",
   "metadata": {},
   "outputs": [],
   "source": [
    "# POS Tagger Dictionary\n",
    "pos_dict = {'A':wordnet.ADJ, 'V':wordnet.VERB, 'N':wordnet.NOUN, 'R':wordnet.ADV}\n",
    "\n",
    "def token_stop_pos(text):\n",
    "    tags = pos_tag(word_tokenize(text))\n",
    "    \n",
    "    new_list = []\n",
    "    for word, tag in tags:\n",
    "        if word.lower() not in set(stopwords.words('english')):\n",
    "            new_list.append(tuple([word, pos_dict.get(tag[0])]))\n",
    "    return new_list"
   ]
  },
  {
   "cell_type": "code",
   "execution_count": 18,
   "id": "6ad71326",
   "metadata": {},
   "outputs": [
    {
     "data": {
      "text/html": [
       "<div>\n",
       "<style scoped>\n",
       "    .dataframe tbody tr th:only-of-type {\n",
       "        vertical-align: middle;\n",
       "    }\n",
       "\n",
       "    .dataframe tbody tr th {\n",
       "        vertical-align: top;\n",
       "    }\n",
       "\n",
       "    .dataframe thead th {\n",
       "        text-align: right;\n",
       "    }\n",
       "</style>\n",
       "<table border=\"1\" class=\"dataframe\">\n",
       "  <thead>\n",
       "    <tr style=\"text-align: right;\">\n",
       "      <th></th>\n",
       "      <th>reviews</th>\n",
       "      <th>clean_reviews</th>\n",
       "      <th>POS Tagged</th>\n",
       "    </tr>\n",
       "  </thead>\n",
       "  <tbody>\n",
       "    <tr>\n",
       "      <th>0</th>\n",
       "      <td>Boarding at Mumbai was chaotic and badly orga...</td>\n",
       "      <td>Boarding at Mumbai was chaotic and badly orga...</td>\n",
       "      <td>[(Boarding, v), (Mumbai, n), (chaotic, None), ...</td>\n",
       "    </tr>\n",
       "    <tr>\n",
       "      <th>1</th>\n",
       "      <td>Mexico City Airport is a zoo, but taking the ...</td>\n",
       "      <td>Mexico City Airport is a zoo but taking the l...</td>\n",
       "      <td>[(Mexico, n), (City, n), (Airport, n), (zoo, n...</td>\n",
       "    </tr>\n",
       "    <tr>\n",
       "      <th>2</th>\n",
       "      <td>Very poor service, very frustrating. Firstly...</td>\n",
       "      <td>Very poor service very frustrating Firstly my...</td>\n",
       "      <td>[(poor, None), (service, n), (frustrating, Non...</td>\n",
       "    </tr>\n",
       "    <tr>\n",
       "      <th>3</th>\n",
       "      <td>Generally poor. Sent to gate on time, sat ma...</td>\n",
       "      <td>Generally poor Sent to gate on time sat maybe...</td>\n",
       "      <td>[(Generally, r), (poor, None), (Sent, n), (gat...</td>\n",
       "    </tr>\n",
       "    <tr>\n",
       "      <th>4</th>\n",
       "      <td>BA changed our prepaid seats at the last min...</td>\n",
       "      <td>BA changed our prepaid seats at the last minu...</td>\n",
       "      <td>[(BA, n), (changed, v), (prepaid, n), (seats, ...</td>\n",
       "    </tr>\n",
       "  </tbody>\n",
       "</table>\n",
       "</div>"
      ],
      "text/plain": [
       "                                             reviews  \\\n",
       "0   Boarding at Mumbai was chaotic and badly orga...   \n",
       "1   Mexico City Airport is a zoo, but taking the ...   \n",
       "2    Very poor service, very frustrating. Firstly...   \n",
       "3    Generally poor. Sent to gate on time, sat ma...   \n",
       "4    BA changed our prepaid seats at the last min...   \n",
       "\n",
       "                                       clean_reviews  \\\n",
       "0   Boarding at Mumbai was chaotic and badly orga...   \n",
       "1   Mexico City Airport is a zoo but taking the l...   \n",
       "2   Very poor service very frustrating Firstly my...   \n",
       "3   Generally poor Sent to gate on time sat maybe...   \n",
       "4   BA changed our prepaid seats at the last minu...   \n",
       "\n",
       "                                          POS Tagged  \n",
       "0  [(Boarding, v), (Mumbai, n), (chaotic, None), ...  \n",
       "1  [(Mexico, n), (City, n), (Airport, n), (zoo, n...  \n",
       "2  [(poor, None), (service, n), (frustrating, Non...  \n",
       "3  [(Generally, r), (poor, None), (Sent, n), (gat...  \n",
       "4  [(BA, n), (changed, v), (prepaid, n), (seats, ...  "
      ]
     },
     "execution_count": 18,
     "metadata": {},
     "output_type": "execute_result"
    }
   ],
   "source": [
    "data['POS Tagged'] = data['clean_reviews'].apply(token_stop_pos)\n",
    "data.head()"
   ]
  },
  {
   "cell_type": "code",
   "execution_count": 21,
   "id": "daae325f",
   "metadata": {},
   "outputs": [],
   "source": [
    "# Obtaining the stem words – Lemmatization\n",
    "lemmatizer = WordNetLemmatizer()\n",
    "def lemmatize(pos_data):\n",
    "    lemma_rev = \" \"\n",
    "    for word, pos in pos_data:\n",
    "     if not pos:\n",
    "        lemma = word\n",
    "        lemma_rev = lemma_rev + \" \" + lemma\n",
    "     else:\n",
    "        lemma = lemmatizer.lemmatize(word, pos=pos)\n",
    "        lemma_rev = lemma_rev + \" \" + lemma\n",
    "    return lemma_rev"
   ]
  },
  {
   "cell_type": "code",
   "execution_count": 22,
   "id": "cb659445",
   "metadata": {},
   "outputs": [
    {
     "data": {
      "text/html": [
       "<div>\n",
       "<style scoped>\n",
       "    .dataframe tbody tr th:only-of-type {\n",
       "        vertical-align: middle;\n",
       "    }\n",
       "\n",
       "    .dataframe tbody tr th {\n",
       "        vertical-align: top;\n",
       "    }\n",
       "\n",
       "    .dataframe thead th {\n",
       "        text-align: right;\n",
       "    }\n",
       "</style>\n",
       "<table border=\"1\" class=\"dataframe\">\n",
       "  <thead>\n",
       "    <tr style=\"text-align: right;\">\n",
       "      <th></th>\n",
       "      <th>reviews</th>\n",
       "      <th>clean_reviews</th>\n",
       "      <th>POS Tagged</th>\n",
       "      <th>lemma_rev</th>\n",
       "    </tr>\n",
       "  </thead>\n",
       "  <tbody>\n",
       "    <tr>\n",
       "      <th>0</th>\n",
       "      <td>Boarding at Mumbai was chaotic and badly orga...</td>\n",
       "      <td>Boarding at Mumbai was chaotic and badly orga...</td>\n",
       "      <td>[(Boarding, v), (Mumbai, n), (chaotic, None), ...</td>\n",
       "      <td>Boarding Mumbai chaotic badly organise board...</td>\n",
       "    </tr>\n",
       "    <tr>\n",
       "      <th>1</th>\n",
       "      <td>Mexico City Airport is a zoo, but taking the ...</td>\n",
       "      <td>Mexico City Airport is a zoo but taking the l...</td>\n",
       "      <td>[(Mexico, n), (City, n), (Airport, n), (zoo, n...</td>\n",
       "      <td>Mexico City Airport zoo take late departure ...</td>\n",
       "    </tr>\n",
       "    <tr>\n",
       "      <th>2</th>\n",
       "      <td>Very poor service, very frustrating. Firstly...</td>\n",
       "      <td>Very poor service very frustrating Firstly my...</td>\n",
       "      <td>[(poor, None), (service, n), (frustrating, Non...</td>\n",
       "      <td>poor service frustrating Firstly flight LHR ...</td>\n",
       "    </tr>\n",
       "    <tr>\n",
       "      <th>3</th>\n",
       "      <td>Generally poor. Sent to gate on time, sat ma...</td>\n",
       "      <td>Generally poor Sent to gate on time sat maybe...</td>\n",
       "      <td>[(Generally, r), (poor, None), (Sent, n), (gat...</td>\n",
       "      <td>Generally poor Sent gate time sat maybe minu...</td>\n",
       "    </tr>\n",
       "    <tr>\n",
       "      <th>4</th>\n",
       "      <td>BA changed our prepaid seats at the last min...</td>\n",
       "      <td>BA changed our prepaid seats at the last minu...</td>\n",
       "      <td>[(BA, n), (changed, v), (prepaid, n), (seats, ...</td>\n",
       "      <td>BA change prepaid seat last minute charge us...</td>\n",
       "    </tr>\n",
       "  </tbody>\n",
       "</table>\n",
       "</div>"
      ],
      "text/plain": [
       "                                             reviews  \\\n",
       "0   Boarding at Mumbai was chaotic and badly orga...   \n",
       "1   Mexico City Airport is a zoo, but taking the ...   \n",
       "2    Very poor service, very frustrating. Firstly...   \n",
       "3    Generally poor. Sent to gate on time, sat ma...   \n",
       "4    BA changed our prepaid seats at the last min...   \n",
       "\n",
       "                                       clean_reviews  \\\n",
       "0   Boarding at Mumbai was chaotic and badly orga...   \n",
       "1   Mexico City Airport is a zoo but taking the l...   \n",
       "2   Very poor service very frustrating Firstly my...   \n",
       "3   Generally poor Sent to gate on time sat maybe...   \n",
       "4   BA changed our prepaid seats at the last minu...   \n",
       "\n",
       "                                          POS Tagged  \\\n",
       "0  [(Boarding, v), (Mumbai, n), (chaotic, None), ...   \n",
       "1  [(Mexico, n), (City, n), (Airport, n), (zoo, n...   \n",
       "2  [(poor, None), (service, n), (frustrating, Non...   \n",
       "3  [(Generally, r), (poor, None), (Sent, n), (gat...   \n",
       "4  [(BA, n), (changed, v), (prepaid, n), (seats, ...   \n",
       "\n",
       "                                           lemma_rev  \n",
       "0    Boarding Mumbai chaotic badly organise board...  \n",
       "1    Mexico City Airport zoo take late departure ...  \n",
       "2    poor service frustrating Firstly flight LHR ...  \n",
       "3    Generally poor Sent gate time sat maybe minu...  \n",
       "4    BA change prepaid seat last minute charge us...  "
      ]
     },
     "execution_count": 22,
     "metadata": {},
     "output_type": "execute_result"
    }
   ],
   "source": [
    "data['lemma_rev'] = data['POS Tagged'].apply(lemmatize)\n",
    "data.head()"
   ]
  },
  {
   "cell_type": "code",
   "execution_count": 23,
   "id": "82430479",
   "metadata": {},
   "outputs": [
    {
     "data": {
      "text/plain": [
       "'  Boarding Mumbai chaotic badly organise board crew announcement professional relaxed informative typical BA style seat quite comfortable refurbish aircraft padding material quite good lucky middle seat empty suffer new narrow seat think would make lot less comfortable IFE excellent responsive good quality enormous selection TV movie good number game WIFI also good quite Netflix quality still reasonable think full flight bad value pay less want short term simple message Cabin crew good Friendly efficient Catering reasonable although near hr flight small tasty pastry second meal service really enough Landing processing Heathrow astonishingly quick felt like even though pm queue wait Even baggage super quick come Overall solid experience economy Significantly well use'"
      ]
     },
     "execution_count": 23,
     "metadata": {},
     "output_type": "execute_result"
    }
   ],
   "source": [
    "data['lemma_rev'][0]"
   ]
  },
  {
   "cell_type": "code",
   "execution_count": 24,
   "id": "ff6f2144",
   "metadata": {},
   "outputs": [
    {
     "data": {
      "text/plain": [
       "' Boarding at Mumbai was chaotic and badly organised Once on board the crew announcements were professional relaxed and informative in typical BA style The seat was quite comfortable It was a refurbished aircraft and the padding and materials are quite good I was lucky that the middle seat was empty so I didn t suffer from the new narrow seat which I think would have made it a lot less comfortable The IFE is excellent responsive and good quality There is an enormous selection of TV and movies and a good number of games WIFI is also very good not quite Netflix quality but still reasonable and I don t think for full flight is bad value You can pay less if you just want short term simple messaging Cabin crew were very good Friendly and efficient Catering was reasonable although on a near hr flight the small but tasty pastry for the second meal service wasn t really enough Landing and processing at Heathrow was astonishingly quick it felt like it was am even though it was pm No queues or waiting at all Even the baggage was super quick at coming through Overall a very solid experience in economy Significantly better than it used to be '"
      ]
     },
     "execution_count": 24,
     "metadata": {},
     "output_type": "execute_result"
    }
   ],
   "source": [
    "data['clean_reviews'][0]"
   ]
  },
  {
   "cell_type": "code",
   "execution_count": 25,
   "id": "d81b719d",
   "metadata": {},
   "outputs": [
    {
     "name": "stdout",
     "output_type": "stream",
     "text": [
      "Collecting vaderSentiment\n",
      "  Downloading vaderSentiment-3.3.2-py2.py3-none-any.whl (125 kB)\n",
      "Requirement already satisfied: requests in c:\\users\\alboc\\anaconda3\\lib\\site-packages (from vaderSentiment) (2.27.1)\n",
      "Requirement already satisfied: urllib3<1.27,>=1.21.1 in c:\\users\\alboc\\anaconda3\\lib\\site-packages (from requests->vaderSentiment) (1.26.9)\n",
      "Requirement already satisfied: idna<4,>=2.5 in c:\\users\\alboc\\anaconda3\\lib\\site-packages (from requests->vaderSentiment) (3.3)\n",
      "Requirement already satisfied: certifi>=2017.4.17 in c:\\users\\alboc\\anaconda3\\lib\\site-packages (from requests->vaderSentiment) (2021.10.8)\n",
      "Requirement already satisfied: charset-normalizer~=2.0.0 in c:\\users\\alboc\\anaconda3\\lib\\site-packages (from requests->vaderSentiment) (2.0.4)\n",
      "Installing collected packages: vaderSentiment\n",
      "Successfully installed vaderSentiment-3.3.2\n"
     ]
    }
   ],
   "source": [
    "!pip install vaderSentiment"
   ]
  },
  {
   "cell_type": "markdown",
   "id": "8706a2e7",
   "metadata": {},
   "source": [
    "# Sentiment Analysis using VADER\n",
    "VADER stands for Valence Aware Dictionary and Sentiment Reasoner.\n",
    "\n",
    "Vader sentiment not only tells if the statement is positive or negative along with the intensity of emotion."
   ]
  },
  {
   "cell_type": "code",
   "execution_count": 26,
   "id": "94b1ae39",
   "metadata": {},
   "outputs": [],
   "source": [
    "from vaderSentiment.vaderSentiment import SentimentIntensityAnalyzer\n",
    "Analyzer = SentimentIntensityAnalyzer()"
   ]
  },
  {
   "cell_type": "code",
   "execution_count": 27,
   "id": "2294e1f9",
   "metadata": {},
   "outputs": [],
   "source": [
    "# Function to calculate vader sentiment\n",
    "def sentiment_scores(review):\n",
    "    ss = Analyzer.polarity_scores(review)\n",
    "    return ss['compound']\n",
    "\n",
    "data['Sentiment'] = data['lemma_rev'].apply(sentiment_scores)\n",
    "\n",
    "# Function to analyse the sentiment\n",
    "def sentiment_analysis(compound):\n",
    "    if compound >= 0.5:\n",
    "        return 'Positive'\n",
    "    elif compound < 0:\n",
    "        return 'Negative'\n",
    "    else:\n",
    "        return 'Neutral'"
   ]
  },
  {
   "cell_type": "code",
   "execution_count": 28,
   "id": "36f86b88",
   "metadata": {},
   "outputs": [
    {
     "data": {
      "text/html": [
       "<div>\n",
       "<style scoped>\n",
       "    .dataframe tbody tr th:only-of-type {\n",
       "        vertical-align: middle;\n",
       "    }\n",
       "\n",
       "    .dataframe tbody tr th {\n",
       "        vertical-align: top;\n",
       "    }\n",
       "\n",
       "    .dataframe thead th {\n",
       "        text-align: right;\n",
       "    }\n",
       "</style>\n",
       "<table border=\"1\" class=\"dataframe\">\n",
       "  <thead>\n",
       "    <tr style=\"text-align: right;\">\n",
       "      <th></th>\n",
       "      <th>reviews</th>\n",
       "      <th>clean_reviews</th>\n",
       "      <th>POS Tagged</th>\n",
       "      <th>lemma_rev</th>\n",
       "      <th>Sentiment</th>\n",
       "      <th>Review</th>\n",
       "    </tr>\n",
       "  </thead>\n",
       "  <tbody>\n",
       "    <tr>\n",
       "      <th>0</th>\n",
       "      <td>Boarding at Mumbai was chaotic and badly orga...</td>\n",
       "      <td>Boarding at Mumbai was chaotic and badly orga...</td>\n",
       "      <td>[(Boarding, v), (Mumbai, n), (chaotic, None), ...</td>\n",
       "      <td>Boarding Mumbai chaotic badly organise board...</td>\n",
       "      <td>0.9871</td>\n",
       "      <td>Positive</td>\n",
       "    </tr>\n",
       "    <tr>\n",
       "      <th>1</th>\n",
       "      <td>Mexico City Airport is a zoo, but taking the ...</td>\n",
       "      <td>Mexico City Airport is a zoo but taking the l...</td>\n",
       "      <td>[(Mexico, n), (City, n), (Airport, n), (zoo, n...</td>\n",
       "      <td>Mexico City Airport zoo take late departure ...</td>\n",
       "      <td>0.9917</td>\n",
       "      <td>Positive</td>\n",
       "    </tr>\n",
       "    <tr>\n",
       "      <th>2</th>\n",
       "      <td>Very poor service, very frustrating. Firstly...</td>\n",
       "      <td>Very poor service very frustrating Firstly my...</td>\n",
       "      <td>[(poor, None), (service, n), (frustrating, Non...</td>\n",
       "      <td>poor service frustrating Firstly flight LHR ...</td>\n",
       "      <td>-0.9403</td>\n",
       "      <td>Negative</td>\n",
       "    </tr>\n",
       "    <tr>\n",
       "      <th>3</th>\n",
       "      <td>Generally poor. Sent to gate on time, sat ma...</td>\n",
       "      <td>Generally poor Sent to gate on time sat maybe...</td>\n",
       "      <td>[(Generally, r), (poor, None), (Sent, n), (gat...</td>\n",
       "      <td>Generally poor Sent gate time sat maybe minu...</td>\n",
       "      <td>-0.4588</td>\n",
       "      <td>Negative</td>\n",
       "    </tr>\n",
       "    <tr>\n",
       "      <th>4</th>\n",
       "      <td>BA changed our prepaid seats at the last min...</td>\n",
       "      <td>BA changed our prepaid seats at the last minu...</td>\n",
       "      <td>[(BA, n), (changed, v), (prepaid, n), (seats, ...</td>\n",
       "      <td>BA change prepaid seat last minute charge us...</td>\n",
       "      <td>0.6908</td>\n",
       "      <td>Positive</td>\n",
       "    </tr>\n",
       "    <tr>\n",
       "      <th>5</th>\n",
       "      <td>Flew from London Heathrow to Marrakech. BA c...</td>\n",
       "      <td>Flew from London Heathrow to Marrakech BA cha...</td>\n",
       "      <td>[(Flew, None), (London, n), (Heathrow, n), (Ma...</td>\n",
       "      <td>Flew London Heathrow Marrakech BA change pre...</td>\n",
       "      <td>-0.6162</td>\n",
       "      <td>Negative</td>\n",
       "    </tr>\n",
       "    <tr>\n",
       "      <th>6</th>\n",
       "      <td>I was meant to fly in January to Algeria. I p...</td>\n",
       "      <td>I was meant to fly in January to Algeria I pa...</td>\n",
       "      <td>[(meant, v), (fly, v), (January, n), (Algeria,...</td>\n",
       "      <td>mean fly January Algeria pay ticket day mean...</td>\n",
       "      <td>-0.5994</td>\n",
       "      <td>Negative</td>\n",
       "    </tr>\n",
       "    <tr>\n",
       "      <th>7</th>\n",
       "      <td>We have flown repeatedly with British Airway...</td>\n",
       "      <td>We have flown repeatedly with British Airways...</td>\n",
       "      <td>[(flown, v), (repeatedly, r), (British, None),...</td>\n",
       "      <td>fly repeatedly British Airways One World all...</td>\n",
       "      <td>-0.9442</td>\n",
       "      <td>Negative</td>\n",
       "    </tr>\n",
       "    <tr>\n",
       "      <th>8</th>\n",
       "      <td>I was horrified by the extremely small seats...</td>\n",
       "      <td>I was horrified by the extremely small seats ...</td>\n",
       "      <td>[(horrified, v), (extremely, r), (small, None)...</td>\n",
       "      <td>horrify extremely small seat poor training c...</td>\n",
       "      <td>-0.5507</td>\n",
       "      <td>Negative</td>\n",
       "    </tr>\n",
       "    <tr>\n",
       "      <th>9</th>\n",
       "      <td>\\r\\nThe worst cabin experience ever: cramped...</td>\n",
       "      <td>The worst cabin experience ever cramped seats...</td>\n",
       "      <td>[(worst, None), (cabin, n), (experience, n), (...</td>\n",
       "      <td>worst cabin experience ever cramp seat low c...</td>\n",
       "      <td>-0.9136</td>\n",
       "      <td>Negative</td>\n",
       "    </tr>\n",
       "  </tbody>\n",
       "</table>\n",
       "</div>"
      ],
      "text/plain": [
       "                                             reviews  \\\n",
       "0   Boarding at Mumbai was chaotic and badly orga...   \n",
       "1   Mexico City Airport is a zoo, but taking the ...   \n",
       "2    Very poor service, very frustrating. Firstly...   \n",
       "3    Generally poor. Sent to gate on time, sat ma...   \n",
       "4    BA changed our prepaid seats at the last min...   \n",
       "5    Flew from London Heathrow to Marrakech. BA c...   \n",
       "6   I was meant to fly in January to Algeria. I p...   \n",
       "7    We have flown repeatedly with British Airway...   \n",
       "8    I was horrified by the extremely small seats...   \n",
       "9    \\r\\nThe worst cabin experience ever: cramped...   \n",
       "\n",
       "                                       clean_reviews  \\\n",
       "0   Boarding at Mumbai was chaotic and badly orga...   \n",
       "1   Mexico City Airport is a zoo but taking the l...   \n",
       "2   Very poor service very frustrating Firstly my...   \n",
       "3   Generally poor Sent to gate on time sat maybe...   \n",
       "4   BA changed our prepaid seats at the last minu...   \n",
       "5   Flew from London Heathrow to Marrakech BA cha...   \n",
       "6   I was meant to fly in January to Algeria I pa...   \n",
       "7   We have flown repeatedly with British Airways...   \n",
       "8   I was horrified by the extremely small seats ...   \n",
       "9   The worst cabin experience ever cramped seats...   \n",
       "\n",
       "                                          POS Tagged  \\\n",
       "0  [(Boarding, v), (Mumbai, n), (chaotic, None), ...   \n",
       "1  [(Mexico, n), (City, n), (Airport, n), (zoo, n...   \n",
       "2  [(poor, None), (service, n), (frustrating, Non...   \n",
       "3  [(Generally, r), (poor, None), (Sent, n), (gat...   \n",
       "4  [(BA, n), (changed, v), (prepaid, n), (seats, ...   \n",
       "5  [(Flew, None), (London, n), (Heathrow, n), (Ma...   \n",
       "6  [(meant, v), (fly, v), (January, n), (Algeria,...   \n",
       "7  [(flown, v), (repeatedly, r), (British, None),...   \n",
       "8  [(horrified, v), (extremely, r), (small, None)...   \n",
       "9  [(worst, None), (cabin, n), (experience, n), (...   \n",
       "\n",
       "                                           lemma_rev  Sentiment    Review  \n",
       "0    Boarding Mumbai chaotic badly organise board...     0.9871  Positive  \n",
       "1    Mexico City Airport zoo take late departure ...     0.9917  Positive  \n",
       "2    poor service frustrating Firstly flight LHR ...    -0.9403  Negative  \n",
       "3    Generally poor Sent gate time sat maybe minu...    -0.4588  Negative  \n",
       "4    BA change prepaid seat last minute charge us...     0.6908  Positive  \n",
       "5    Flew London Heathrow Marrakech BA change pre...    -0.6162  Negative  \n",
       "6    mean fly January Algeria pay ticket day mean...    -0.5994  Negative  \n",
       "7    fly repeatedly British Airways One World all...    -0.9442  Negative  \n",
       "8    horrify extremely small seat poor training c...    -0.5507  Negative  \n",
       "9    worst cabin experience ever cramp seat low c...    -0.9136  Negative  "
      ]
     },
     "execution_count": 28,
     "metadata": {},
     "output_type": "execute_result"
    }
   ],
   "source": [
    "data['Review'] = data['Sentiment'].apply(sentiment_analysis)\n",
    "data.head(10)"
   ]
  },
  {
   "cell_type": "code",
   "execution_count": 29,
   "id": "45a02fda",
   "metadata": {},
   "outputs": [
    {
     "data": {
      "text/plain": [
       "Positive    527\n",
       "Negative    368\n",
       "Neutral     105\n",
       "Name: Review, dtype: int64"
      ]
     },
     "execution_count": 29,
     "metadata": {},
     "output_type": "execute_result"
    }
   ],
   "source": [
    "# Check value_count on Review column\n",
    "review_count = data['Review'].value_counts()\n",
    "review_count"
   ]
  },
  {
   "cell_type": "code",
   "execution_count": 30,
   "id": "1f494a16",
   "metadata": {},
   "outputs": [
    {
     "data": {
      "image/png": "[encoded data removed]",
      "text/plain": [
       "<Figure size 864x432 with 1 Axes>"
      ]
     },
     "metadata": {
      "needs_background": "light"
     },
     "output_type": "display_data"
    }
   ],
   "source": [
    "# Review Countplot\n",
    "plt.figure(figsize=(12,6))\n",
    "plt.title('Review Count');\n",
    "sns.countplot(x=data['Review'], data=data, palette='rainbow');"
   ]
  },
  {
   "cell_type": "code",
   "execution_count": 31,
   "id": "9af44661",
   "metadata": {},
   "outputs": [
    {
     "data": {
      "image/png": "[encoded data removed]",
      "text/plain": [
       "<Figure size 864x432 with 1 Axes>"
      ]
     },
     "metadata": {
      "needs_background": "light"
     },
     "output_type": "display_data"
    }
   ],
   "source": [
    "stopwords = set(STOPWORDS)\n",
    "\n",
    "# Function to generate stopwords\n",
    "def show_wordcloud(data):\n",
    "    wordcloud = WordCloud(max_words=150,\n",
    "                          background_color='black',\n",
    "                          max_font_size=30,\n",
    "                          stopwords=stopwords,\n",
    "                          scale=4,\n",
    "                          random_state=1)\n",
    "    wordcloud = wordcloud.generate(str(data))\n",
    "    \n",
    "    plt.figure(figsize=(12,6))\n",
    "    plt.axis('off')\n",
    "    plt.title('StopWords')\n",
    "    plt.imshow(wordcloud)\n",
    "    plt.show()\n",
    "    \n",
    "show_wordcloud(data.lemma_rev)"
   ]
  },
  {
   "cell_type": "code",
   "execution_count": null,
   "id": "d04acfcd",
   "metadata": {},
   "outputs": [],
   "source": []
  }
 ],
 "metadata": {
  "kernelspec": {
   "display_name": "Python 3 (ipykernel)",
   "language": "python",
   "name": "python3"
  },
  "language_info": {
   "codemirror_mode": {
    "name": "ipython",
    "version": 3
   },
   "file_extension": ".py",
   "mimetype": "text/x-python",
   "name": "python",
   "nbconvert_exporter": "python",
   "pygments_lexer": "ipython3",
   "version": "3.9.12"
  }
 },
 "nbformat": 4,
 "nbformat_minor": 5
}
